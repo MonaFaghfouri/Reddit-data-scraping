{
  "nbformat": 4,
  "nbformat_minor": 0,
  "metadata": {
    "colab": {
      "provenance": [],
      "authorship_tag": "ABX9TyPrtyAyYcFFB1xed9Ck0JcQ",
      "include_colab_link": true
    },
    "kernelspec": {
      "name": "python3",
      "display_name": "Python 3"
    },
    "language_info": {
      "name": "python"
    }
  },
  "cells": [
    {
      "cell_type": "markdown",
      "metadata": {
        "id": "view-in-github",
        "colab_type": "text"
      },
      "source": [
        "<a href=\"https://colab.research.google.com/github/MonaFaghfouri/Reddit-data-scraping/blob/main/Reddit.ipynb\" target=\"_parent\"><img src=\"https://colab.research.google.com/assets/colab-badge.svg\" alt=\"Open In Colab\"/></a>"
      ]
    },
    {
      "cell_type": "code",
      "source": [
        "!pip install praw"
      ],
      "metadata": {
        "id": "7qgF9mDP-ADK"
      },
      "execution_count": null,
      "outputs": []
    },
    {
      "cell_type": "code",
      "source": [
        "# If you want to extract comments"
      ],
      "metadata": {
        "id": "6YYH2BZp-H10"
      },
      "execution_count": null,
      "outputs": []
    },
    {
      "cell_type": "code",
      "source": [
        "\n",
        "import praw\n",
        "import datetime\n",
        "import pandas as pd\n",
        "from google.colab import files\n",
        "\n",
        "# Reddit API credentials\n",
        "REDDIT_CLIENT_ID = \"your_client_id\"\n",
        "REDDIT_CLIENT_SECRET = \"your_client_secret\"\n",
        "REDDIT_USER_AGENT = \"my_app\"  # Simple and fixed value\n",
        "\n",
        "# Connect to Reddit\n",
        "reddit = praw.Reddit(client_id=REDDIT_CLIENT_ID,\n",
        "                     client_secret=REDDIT_CLIENT_SECRET,\n",
        "                     user_agent=REDDIT_USER_AGENT)\n",
        "\n",
        "def fetch_reddit_comments_with_details(subreddit, limit=500):\n",
        "    \"\"\"Fetch comments with details, excluding extra fields\"\"\"\n",
        "    data = []\n",
        "\n",
        "    for comment in reddit.subreddit(subreddit).comments(limit=limit):\n",
        "        author = comment.author.name if comment.author else \"Deleted\"\n",
        "        created_at = datetime.datetime.utcfromtimestamp(comment.created_utc).strftime('%Y-%m-%d %H:%M:%S')\n",
        "\n",
        "        data.append({\n",
        "            \"Username\": author,\n",
        "            \"Text\": comment.body,\n",
        "            \"Created At\": created_at,\n",
        "            \"Upvotes\": comment.score\n",
        "        })\n",
        "\n",
        "    return pd.DataFrame(data)\n",
        "\n",
        "def save_and_download_comments_df(df, filename=\"reddit_comments.csv\"):\n",
        "    df.to_csv(filename, index=False)\n",
        "    print(f\"✅ {len(df)} comments saved in {filename}\")\n",
        "    files.download(filename)\n",
        "\n",
        "# Fetch and save comments\n",
        "subreddit_name = \"Enter your keywords\"  # You can change this to any subreddit\n",
        "comments_df = fetch_reddit_comments_with_details(subreddit_name, limit=500)\n",
        "save_and_download_comments_df(comments_df)\n"
      ],
      "metadata": {
        "id": "MPjjfS-9-blY"
      },
      "execution_count": null,
      "outputs": []
    },
    {
      "cell_type": "code",
      "source": [
        "# If you want to extract posts"
      ],
      "metadata": {
        "id": "lp_j5Sqv-u_A"
      },
      "execution_count": null,
      "outputs": []
    },
    {
      "cell_type": "code",
      "source": [
        "\n",
        "import praw\n",
        "import datetime\n",
        "import pandas as pd\n",
        "from google.colab import files\n",
        "\n",
        "# Reddit API credentials\n",
        "REDDIT_CLIENT_ID =  \"your_client_id\"\n",
        "REDDIT_CLIENT_SECRET = \"your_client_secret\"\n",
        "REDDIT_USER_AGENT = \"my_app\"  # Simple and fixed value\n",
        "\n",
        "# Connect to Reddit\n",
        "reddit = praw.Reddit(client_id=REDDIT_CLIENT_ID,\n",
        "                     client_secret=REDDIT_CLIENT_SECRET,\n",
        "                     user_agent=REDDIT_USER_AGENT)\n",
        "\n",
        "def fetch_reddit_posts_with_details(subreddit, limit=100):\n",
        "    \"\"\"Fetch posts (submissions) with details\"\"\"\n",
        "    data = []\n",
        "\n",
        "    for submission in reddit.subreddit(subreddit).new(limit=limit):\n",
        "        author = submission.author.name if submission.author else \"Deleted\"\n",
        "        created_at = datetime.datetime.utcfromtimestamp(submission.created_utc).strftime('%Y-%m-%d %H:%M:%S')\n",
        "\n",
        "        data.append({\n",
        "            \"Username\": author,\n",
        "            \"Title\": submission.title,\n",
        "            \"Text\": submission.selftext,\n",
        "            \"Created At\": created_at,\n",
        "            \"Upvotes\": submission.score\n",
        "        })\n",
        "\n",
        "    return pd.DataFrame(data)\n",
        "\n",
        "def save_and_download_posts_df(df, filename=\"reddit_posts.csv\"):\n",
        "    df.to_csv(filename, index=False)\n",
        "    print(f\"✅ {len(df)} posts saved in {filename}\")\n",
        "    files.download(filename)\n",
        "\n",
        "# Fetch and save posts\n",
        "subreddit_name = \"Enter your keywords\"  # You can change this to any subreddit\n",
        "posts_df = fetch_reddit_posts_with_details(subreddit_name, limit=100)\n",
        "save_and_download_posts_df(posts_df)\n"
      ],
      "metadata": {
        "id": "e1eeovln-5rA"
      },
      "execution_count": null,
      "outputs": []
    }
  ]
}